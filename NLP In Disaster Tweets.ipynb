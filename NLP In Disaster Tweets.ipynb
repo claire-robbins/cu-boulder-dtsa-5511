{
 "cells": [
  {
   "cell_type": "markdown",
   "id": "39173e19",
   "metadata": {},
   "source": [
    "# NLP with Disaster Tweets"
   ]
  },
  {
   "cell_type": "markdown",
   "id": "1f40efba",
   "metadata": {},
   "source": [
    "# Introduction"
   ]
  },
  {
   "cell_type": "markdown",
   "id": "b8943848",
   "metadata": {},
   "source": [
    "Kaggle competition: https://www.kaggle.com/competitions/nlp-getting-started/"
   ]
  },
  {
   "cell_type": "markdown",
   "id": "545e9529",
   "metadata": {},
   "source": [
    "With Twitter's rapid news availability and widespread use, it has become a useful tool in communicating emergencies. However, it is important to differentiate between disaster tweets and non-disaster tweets when Twitter is deciding what comes up on people's feeds. The ability for an algorithm to make this distinction is important, and is a fun natural language processing challenge for young data scientists."
   ]
  },
  {
   "cell_type": "markdown",
   "id": "3c4a6f69",
   "metadata": {},
   "source": [
    "# Setup"
   ]
  },
  {
   "cell_type": "code",
   "execution_count": 76,
   "id": "7f644993",
   "metadata": {},
   "outputs": [],
   "source": [
    "import numpy as np\n",
    "import pandas as pd\n",
    "import matplotlib.pyplot as plt\n",
    "import math\n",
    "import nltk\n",
    "from nltk.corpus import stopwords\n",
    "from nltk.tokenize import word_tokenize\n",
    "from nltk.stem import WordNetLemmatizer\n",
    "from string import punctuation\n",
    "import tensorflow as tf\n",
    "from tensorflow.keras.models import Sequential\n",
    "from tensorflow.keras.layers import Embedding, GRU, Dense, Dropout, Bidirectional, LSTM, GlobalMaxPool1D, BatchNormalization\n",
    "from tensorflow.keras.preprocessing.text import Tokenizer\n",
    "from tensorflow.keras.preprocessing.sequence import pad_sequences\n",
    "from tensorflow.keras.callbacks import EarlyStopping\n",
    "from sklearn.model_selection import train_test_split\n",
    "from tensorflow.keras.regularizers import l2"
   ]
  },
  {
   "cell_type": "code",
   "execution_count": 2,
   "id": "d96588c0",
   "metadata": {},
   "outputs": [],
   "source": [
    "path = \"/Users/clairerobbins/Documents/MS-DS CU Boulder/Introduction to Deep Learning/NLP with Disaster Tweets/nlp-getting-started/\" \n",
    "train = pd.read_csv(path + 'train.csv')\n",
    "test = pd.read_csv(path + 'test.csv')"
   ]
  },
  {
   "cell_type": "code",
   "execution_count": 3,
   "id": "530bfe08",
   "metadata": {},
   "outputs": [
    {
     "data": {
      "text/html": [
       "<div>\n",
       "<style scoped>\n",
       "    .dataframe tbody tr th:only-of-type {\n",
       "        vertical-align: middle;\n",
       "    }\n",
       "\n",
       "    .dataframe tbody tr th {\n",
       "        vertical-align: top;\n",
       "    }\n",
       "\n",
       "    .dataframe thead th {\n",
       "        text-align: right;\n",
       "    }\n",
       "</style>\n",
       "<table border=\"1\" class=\"dataframe\">\n",
       "  <thead>\n",
       "    <tr style=\"text-align: right;\">\n",
       "      <th></th>\n",
       "      <th>id</th>\n",
       "      <th>keyword</th>\n",
       "      <th>location</th>\n",
       "      <th>text</th>\n",
       "      <th>target</th>\n",
       "    </tr>\n",
       "  </thead>\n",
       "  <tbody>\n",
       "    <tr>\n",
       "      <th>0</th>\n",
       "      <td>1</td>\n",
       "      <td>NaN</td>\n",
       "      <td>NaN</td>\n",
       "      <td>Our Deeds are the Reason of this #earthquake M...</td>\n",
       "      <td>1</td>\n",
       "    </tr>\n",
       "    <tr>\n",
       "      <th>1</th>\n",
       "      <td>4</td>\n",
       "      <td>NaN</td>\n",
       "      <td>NaN</td>\n",
       "      <td>Forest fire near La Ronge Sask. Canada</td>\n",
       "      <td>1</td>\n",
       "    </tr>\n",
       "    <tr>\n",
       "      <th>2</th>\n",
       "      <td>5</td>\n",
       "      <td>NaN</td>\n",
       "      <td>NaN</td>\n",
       "      <td>All residents asked to 'shelter in place' are ...</td>\n",
       "      <td>1</td>\n",
       "    </tr>\n",
       "    <tr>\n",
       "      <th>3</th>\n",
       "      <td>6</td>\n",
       "      <td>NaN</td>\n",
       "      <td>NaN</td>\n",
       "      <td>13,000 people receive #wildfires evacuation or...</td>\n",
       "      <td>1</td>\n",
       "    </tr>\n",
       "    <tr>\n",
       "      <th>4</th>\n",
       "      <td>7</td>\n",
       "      <td>NaN</td>\n",
       "      <td>NaN</td>\n",
       "      <td>Just got sent this photo from Ruby #Alaska as ...</td>\n",
       "      <td>1</td>\n",
       "    </tr>\n",
       "  </tbody>\n",
       "</table>\n",
       "</div>"
      ],
      "text/plain": [
       "   id keyword location                                               text  \\\n",
       "0   1     NaN      NaN  Our Deeds are the Reason of this #earthquake M...   \n",
       "1   4     NaN      NaN             Forest fire near La Ronge Sask. Canada   \n",
       "2   5     NaN      NaN  All residents asked to 'shelter in place' are ...   \n",
       "3   6     NaN      NaN  13,000 people receive #wildfires evacuation or...   \n",
       "4   7     NaN      NaN  Just got sent this photo from Ruby #Alaska as ...   \n",
       "\n",
       "   target  \n",
       "0       1  \n",
       "1       1  \n",
       "2       1  \n",
       "3       1  \n",
       "4       1  "
      ]
     },
     "execution_count": 3,
     "metadata": {},
     "output_type": "execute_result"
    }
   ],
   "source": [
    "train.head()"
   ]
  },
  {
   "cell_type": "code",
   "execution_count": 4,
   "id": "1dfffff6",
   "metadata": {},
   "outputs": [
    {
     "data": {
      "text/html": [
       "<div>\n",
       "<style scoped>\n",
       "    .dataframe tbody tr th:only-of-type {\n",
       "        vertical-align: middle;\n",
       "    }\n",
       "\n",
       "    .dataframe tbody tr th {\n",
       "        vertical-align: top;\n",
       "    }\n",
       "\n",
       "    .dataframe thead th {\n",
       "        text-align: right;\n",
       "    }\n",
       "</style>\n",
       "<table border=\"1\" class=\"dataframe\">\n",
       "  <thead>\n",
       "    <tr style=\"text-align: right;\">\n",
       "      <th></th>\n",
       "      <th>id</th>\n",
       "      <th>keyword</th>\n",
       "      <th>location</th>\n",
       "      <th>text</th>\n",
       "    </tr>\n",
       "  </thead>\n",
       "  <tbody>\n",
       "    <tr>\n",
       "      <th>0</th>\n",
       "      <td>0</td>\n",
       "      <td>NaN</td>\n",
       "      <td>NaN</td>\n",
       "      <td>Just happened a terrible car crash</td>\n",
       "    </tr>\n",
       "    <tr>\n",
       "      <th>1</th>\n",
       "      <td>2</td>\n",
       "      <td>NaN</td>\n",
       "      <td>NaN</td>\n",
       "      <td>Heard about #earthquake is different cities, s...</td>\n",
       "    </tr>\n",
       "    <tr>\n",
       "      <th>2</th>\n",
       "      <td>3</td>\n",
       "      <td>NaN</td>\n",
       "      <td>NaN</td>\n",
       "      <td>there is a forest fire at spot pond, geese are...</td>\n",
       "    </tr>\n",
       "    <tr>\n",
       "      <th>3</th>\n",
       "      <td>9</td>\n",
       "      <td>NaN</td>\n",
       "      <td>NaN</td>\n",
       "      <td>Apocalypse lighting. #Spokane #wildfires</td>\n",
       "    </tr>\n",
       "    <tr>\n",
       "      <th>4</th>\n",
       "      <td>11</td>\n",
       "      <td>NaN</td>\n",
       "      <td>NaN</td>\n",
       "      <td>Typhoon Soudelor kills 28 in China and Taiwan</td>\n",
       "    </tr>\n",
       "  </tbody>\n",
       "</table>\n",
       "</div>"
      ],
      "text/plain": [
       "   id keyword location                                               text\n",
       "0   0     NaN      NaN                 Just happened a terrible car crash\n",
       "1   2     NaN      NaN  Heard about #earthquake is different cities, s...\n",
       "2   3     NaN      NaN  there is a forest fire at spot pond, geese are...\n",
       "3   9     NaN      NaN           Apocalypse lighting. #Spokane #wildfires\n",
       "4  11     NaN      NaN      Typhoon Soudelor kills 28 in China and Taiwan"
      ]
     },
     "execution_count": 4,
     "metadata": {},
     "output_type": "execute_result"
    }
   ],
   "source": [
    "test.head()"
   ]
  },
  {
   "cell_type": "markdown",
   "id": "9b26e3da",
   "metadata": {},
   "source": [
    "# EDA"
   ]
  },
  {
   "cell_type": "code",
   "execution_count": 5,
   "id": "9f218df7",
   "metadata": {},
   "outputs": [
    {
     "name": "stdout",
     "output_type": "stream",
     "text": [
      "<class 'pandas.core.frame.DataFrame'>\n",
      "RangeIndex: 7613 entries, 0 to 7612\n",
      "Data columns (total 5 columns):\n",
      " #   Column    Non-Null Count  Dtype \n",
      "---  ------    --------------  ----- \n",
      " 0   id        7613 non-null   int64 \n",
      " 1   keyword   7552 non-null   object\n",
      " 2   location  5080 non-null   object\n",
      " 3   text      7613 non-null   object\n",
      " 4   target    7613 non-null   int64 \n",
      "dtypes: int64(2), object(3)\n",
      "memory usage: 297.5+ KB\n"
     ]
    }
   ],
   "source": [
    "train.info()"
   ]
  },
  {
   "cell_type": "code",
   "execution_count": 6,
   "id": "ccac4424",
   "metadata": {},
   "outputs": [
    {
     "name": "stdout",
     "output_type": "stream",
     "text": [
      "There are 7613 rows and 5 columns in train.\n"
     ]
    }
   ],
   "source": [
    "print('There are {} rows and {} columns in train.'.format(train.shape[0],train.shape[1]))"
   ]
  },
  {
   "cell_type": "code",
   "execution_count": 7,
   "id": "032f3aee",
   "metadata": {},
   "outputs": [
    {
     "data": {
      "text/plain": [
       "{'id': 0.0, 'keyword': 0.8, 'location': 33.27, 'text': 0.0, 'target': 0.0}"
      ]
     },
     "execution_count": 7,
     "metadata": {},
     "output_type": "execute_result"
    }
   ],
   "source": [
    "col_names = list(train.columns)\n",
    "dictionary = {}\n",
    "for i in range(len(col_names)):\n",
    "    dictionary[col_names[i]] = np.round((train.isnull().sum()[i]/len(train))*100,2)\n",
    "dictionary"
   ]
  },
  {
   "cell_type": "code",
   "execution_count": 8,
   "id": "9609c7f6",
   "metadata": {},
   "outputs": [
    {
     "data": {
      "image/png": "[encoded data removed]",
      "text/plain": [
       "<Figure size 600x600 with 1 Axes>"
      ]
     },
     "metadata": {},
     "output_type": "display_data"
    }
   ],
   "source": [
    "train['target'].value_counts().plot(figsize=(6,6),kind='pie',autopct='%.2f%%')\n",
    "plt.title('Train Label Distribution')\n",
    "plt.show()"
   ]
  },
  {
   "cell_type": "code",
   "execution_count": 9,
   "id": "5e7b8465",
   "metadata": {},
   "outputs": [],
   "source": [
    "train_updated = train.copy()\n",
    "train_updated['text_split'] = [i.split() for i in train_updated['text']]\n",
    "train_updated['text_length'] = [len(i) for i in train_updated['text_split']]"
   ]
  },
  {
   "cell_type": "code",
   "execution_count": 10,
   "id": "a1deca0b",
   "metadata": {},
   "outputs": [
    {
     "data": {
      "text/html": [
       "<div>\n",
       "<style scoped>\n",
       "    .dataframe tbody tr th:only-of-type {\n",
       "        vertical-align: middle;\n",
       "    }\n",
       "\n",
       "    .dataframe tbody tr th {\n",
       "        vertical-align: top;\n",
       "    }\n",
       "\n",
       "    .dataframe thead th {\n",
       "        text-align: right;\n",
       "    }\n",
       "</style>\n",
       "<table border=\"1\" class=\"dataframe\">\n",
       "  <thead>\n",
       "    <tr style=\"text-align: right;\">\n",
       "      <th></th>\n",
       "      <th>id</th>\n",
       "      <th>keyword</th>\n",
       "      <th>location</th>\n",
       "      <th>text</th>\n",
       "      <th>target</th>\n",
       "      <th>text_split</th>\n",
       "      <th>text_length</th>\n",
       "    </tr>\n",
       "  </thead>\n",
       "  <tbody>\n",
       "    <tr>\n",
       "      <th>0</th>\n",
       "      <td>1</td>\n",
       "      <td>NaN</td>\n",
       "      <td>NaN</td>\n",
       "      <td>Our Deeds are the Reason of this #earthquake M...</td>\n",
       "      <td>1</td>\n",
       "      <td>[Our, Deeds, are, the, Reason, of, this, #eart...</td>\n",
       "      <td>13</td>\n",
       "    </tr>\n",
       "    <tr>\n",
       "      <th>1</th>\n",
       "      <td>4</td>\n",
       "      <td>NaN</td>\n",
       "      <td>NaN</td>\n",
       "      <td>Forest fire near La Ronge Sask. Canada</td>\n",
       "      <td>1</td>\n",
       "      <td>[Forest, fire, near, La, Ronge, Sask., Canada]</td>\n",
       "      <td>7</td>\n",
       "    </tr>\n",
       "    <tr>\n",
       "      <th>2</th>\n",
       "      <td>5</td>\n",
       "      <td>NaN</td>\n",
       "      <td>NaN</td>\n",
       "      <td>All residents asked to 'shelter in place' are ...</td>\n",
       "      <td>1</td>\n",
       "      <td>[All, residents, asked, to, 'shelter, in, plac...</td>\n",
       "      <td>22</td>\n",
       "    </tr>\n",
       "    <tr>\n",
       "      <th>3</th>\n",
       "      <td>6</td>\n",
       "      <td>NaN</td>\n",
       "      <td>NaN</td>\n",
       "      <td>13,000 people receive #wildfires evacuation or...</td>\n",
       "      <td>1</td>\n",
       "      <td>[13,000, people, receive, #wildfires, evacuati...</td>\n",
       "      <td>8</td>\n",
       "    </tr>\n",
       "    <tr>\n",
       "      <th>4</th>\n",
       "      <td>7</td>\n",
       "      <td>NaN</td>\n",
       "      <td>NaN</td>\n",
       "      <td>Just got sent this photo from Ruby #Alaska as ...</td>\n",
       "      <td>1</td>\n",
       "      <td>[Just, got, sent, this, photo, from, Ruby, #Al...</td>\n",
       "      <td>16</td>\n",
       "    </tr>\n",
       "    <tr>\n",
       "      <th>...</th>\n",
       "      <td>...</td>\n",
       "      <td>...</td>\n",
       "      <td>...</td>\n",
       "      <td>...</td>\n",
       "      <td>...</td>\n",
       "      <td>...</td>\n",
       "      <td>...</td>\n",
       "    </tr>\n",
       "    <tr>\n",
       "      <th>7608</th>\n",
       "      <td>10869</td>\n",
       "      <td>NaN</td>\n",
       "      <td>NaN</td>\n",
       "      <td>Two giant cranes holding a bridge collapse int...</td>\n",
       "      <td>1</td>\n",
       "      <td>[Two, giant, cranes, holding, a, bridge, colla...</td>\n",
       "      <td>11</td>\n",
       "    </tr>\n",
       "    <tr>\n",
       "      <th>7609</th>\n",
       "      <td>10870</td>\n",
       "      <td>NaN</td>\n",
       "      <td>NaN</td>\n",
       "      <td>@aria_ahrary @TheTawniest The out of control w...</td>\n",
       "      <td>1</td>\n",
       "      <td>[@aria_ahrary, @TheTawniest, The, out, of, con...</td>\n",
       "      <td>20</td>\n",
       "    </tr>\n",
       "    <tr>\n",
       "      <th>7610</th>\n",
       "      <td>10871</td>\n",
       "      <td>NaN</td>\n",
       "      <td>NaN</td>\n",
       "      <td>M1.94 [01:04 UTC]?5km S of Volcano Hawaii. htt...</td>\n",
       "      <td>1</td>\n",
       "      <td>[M1.94, [01:04, UTC]?5km, S, of, Volcano, Hawa...</td>\n",
       "      <td>8</td>\n",
       "    </tr>\n",
       "    <tr>\n",
       "      <th>7611</th>\n",
       "      <td>10872</td>\n",
       "      <td>NaN</td>\n",
       "      <td>NaN</td>\n",
       "      <td>Police investigating after an e-bike collided ...</td>\n",
       "      <td>1</td>\n",
       "      <td>[Police, investigating, after, an, e-bike, col...</td>\n",
       "      <td>19</td>\n",
       "    </tr>\n",
       "    <tr>\n",
       "      <th>7612</th>\n",
       "      <td>10873</td>\n",
       "      <td>NaN</td>\n",
       "      <td>NaN</td>\n",
       "      <td>The Latest: More Homes Razed by Northern Calif...</td>\n",
       "      <td>1</td>\n",
       "      <td>[The, Latest:, More, Homes, Razed, by, Norther...</td>\n",
       "      <td>13</td>\n",
       "    </tr>\n",
       "  </tbody>\n",
       "</table>\n",
       "<p>7613 rows × 7 columns</p>\n",
       "</div>"
      ],
      "text/plain": [
       "         id keyword location  \\\n",
       "0         1     NaN      NaN   \n",
       "1         4     NaN      NaN   \n",
       "2         5     NaN      NaN   \n",
       "3         6     NaN      NaN   \n",
       "4         7     NaN      NaN   \n",
       "...     ...     ...      ...   \n",
       "7608  10869     NaN      NaN   \n",
       "7609  10870     NaN      NaN   \n",
       "7610  10871     NaN      NaN   \n",
       "7611  10872     NaN      NaN   \n",
       "7612  10873     NaN      NaN   \n",
       "\n",
       "                                                   text  target  \\\n",
       "0     Our Deeds are the Reason of this #earthquake M...       1   \n",
       "1                Forest fire near La Ronge Sask. Canada       1   \n",
       "2     All residents asked to 'shelter in place' are ...       1   \n",
       "3     13,000 people receive #wildfires evacuation or...       1   \n",
       "4     Just got sent this photo from Ruby #Alaska as ...       1   \n",
       "...                                                 ...     ...   \n",
       "7608  Two giant cranes holding a bridge collapse int...       1   \n",
       "7609  @aria_ahrary @TheTawniest The out of control w...       1   \n",
       "7610  M1.94 [01:04 UTC]?5km S of Volcano Hawaii. htt...       1   \n",
       "7611  Police investigating after an e-bike collided ...       1   \n",
       "7612  The Latest: More Homes Razed by Northern Calif...       1   \n",
       "\n",
       "                                             text_split  text_length  \n",
       "0     [Our, Deeds, are, the, Reason, of, this, #eart...           13  \n",
       "1        [Forest, fire, near, La, Ronge, Sask., Canada]            7  \n",
       "2     [All, residents, asked, to, 'shelter, in, plac...           22  \n",
       "3     [13,000, people, receive, #wildfires, evacuati...            8  \n",
       "4     [Just, got, sent, this, photo, from, Ruby, #Al...           16  \n",
       "...                                                 ...          ...  \n",
       "7608  [Two, giant, cranes, holding, a, bridge, colla...           11  \n",
       "7609  [@aria_ahrary, @TheTawniest, The, out, of, con...           20  \n",
       "7610  [M1.94, [01:04, UTC]?5km, S, of, Volcano, Hawa...            8  \n",
       "7611  [Police, investigating, after, an, e-bike, col...           19  \n",
       "7612  [The, Latest:, More, Homes, Razed, by, Norther...           13  \n",
       "\n",
       "[7613 rows x 7 columns]"
      ]
     },
     "execution_count": 10,
     "metadata": {},
     "output_type": "execute_result"
    }
   ],
   "source": [
    "train_updated"
   ]
  },
  {
   "cell_type": "code",
   "execution_count": 11,
   "id": "391c5d7c",
   "metadata": {},
   "outputs": [],
   "source": [
    "disaster = train_updated[train_updated['target']==1]['text_length'].values\n",
    "not_disaster = train_updated[train_updated['target']==0]['text_length'].values"
   ]
  },
  {
   "cell_type": "code",
   "execution_count": 12,
   "id": "e363c0da",
   "metadata": {},
   "outputs": [
    {
     "data": {
      "text/plain": [
       "(array([100., 345., 539., 690., 684., 728., 585., 416., 204.,  51.]),\n",
       " array([ 1.,  4.,  7., 10., 13., 16., 19., 22., 25., 28., 31.]),\n",
       " [<matplotlib.patches.Polygon at 0x16a1a64d0>])"
      ]
     },
     "execution_count": 12,
     "metadata": {},
     "output_type": "execute_result"
    },
    {
     "data": {
      "image/png": "[encoded data removed]",
      "text/plain": [
       "<Figure size 640x480 with 1 Axes>"
      ]
     },
     "metadata": {},
     "output_type": "display_data"
    }
   ],
   "source": [
    "plt.hist(disaster, histtype='step')\n",
    "plt.hist(not_disaster, histtype='step')"
   ]
  },
  {
   "cell_type": "code",
   "execution_count": 13,
   "id": "5e183634",
   "metadata": {},
   "outputs": [
    {
     "name": "stdout",
     "output_type": "stream",
     "text": [
      "<class 'pandas.core.frame.DataFrame'>\n",
      "RangeIndex: 3263 entries, 0 to 3262\n",
      "Data columns (total 4 columns):\n",
      " #   Column    Non-Null Count  Dtype \n",
      "---  ------    --------------  ----- \n",
      " 0   id        3263 non-null   int64 \n",
      " 1   keyword   3237 non-null   object\n",
      " 2   location  2158 non-null   object\n",
      " 3   text      3263 non-null   object\n",
      "dtypes: int64(1), object(3)\n",
      "memory usage: 102.1+ KB\n"
     ]
    }
   ],
   "source": [
    "test.info()"
   ]
  },
  {
   "cell_type": "code",
   "execution_count": 14,
   "id": "85f087a1",
   "metadata": {},
   "outputs": [
    {
     "name": "stdout",
     "output_type": "stream",
     "text": [
      "There are 3263 rows and 4 columns in train.\n"
     ]
    }
   ],
   "source": [
    "print('There are {} rows and {} columns in train.'.format(test.shape[0],test.shape[1]))"
   ]
  },
  {
   "cell_type": "code",
   "execution_count": 15,
   "id": "2925e6e8",
   "metadata": {},
   "outputs": [
    {
     "data": {
      "text/plain": [
       "{'id': 0.0, 'keyword': 0.8, 'location': 33.86, 'text': 0.0}"
      ]
     },
     "execution_count": 15,
     "metadata": {},
     "output_type": "execute_result"
    }
   ],
   "source": [
    "col_names = list(test.columns)\n",
    "dictionary = {}\n",
    "for i in range(len(col_names)):\n",
    "    dictionary[col_names[i]] = np.round((test.isnull().sum()[i]/len(test))*100,2)\n",
    "dictionary"
   ]
  },
  {
   "cell_type": "markdown",
   "id": "19354610",
   "metadata": {},
   "source": [
    "## Data Preprocessing & Data Cleaning"
   ]
  },
  {
   "cell_type": "code",
   "execution_count": 16,
   "id": "82d058ae",
   "metadata": {},
   "outputs": [],
   "source": [
    "def clean(text):\n",
    "    # get rid of stopwords\n",
    "    stop_words = set(stopwords.words('english'))\n",
    "    # get rid of punctuation\n",
    "    punctuation_chars = set(punctuation)\n",
    "    # reduce words to simplest form\n",
    "    lemmatizer = WordNetLemmatizer()\n",
    "    tokens = word_tokenize(text)\n",
    "    clean_tokens = [lemmatizer.lemmatize(token.lower()) for token in tokens if token.isalpha() and token.lower() not in stop_words and token not in punctuation_chars]\n",
    "    cleaned_text = \" \".join(clean_tokens)\n",
    "    return cleaned_text\n",
    "\n",
    "# Apply preprocessing to the 'text' column in the 'train' and 'test' DataFrames\n",
    "train['cleaned_text'] = train['text'].apply(lambda x: clean(x))\n",
    "test['cleaned_text'] = test['text'].apply(lambda x: clean(x))"
   ]
  },
  {
   "cell_type": "code",
   "execution_count": 67,
   "id": "c6ce6e56",
   "metadata": {},
   "outputs": [],
   "source": [
    "# Example data and labels (replace with your actual data)\n",
    "texts = train['cleaned_text']\n",
    "target = train['target']  # 1: Disastrous, 0: Not Disastrous\n",
    "\n",
    "# Split the data into train and validation sets\n",
    "train_texts, val_texts, train_target, val_target = train_test_split(texts, target, test_size=0.2, random_state=42)\n",
    "\n",
    "# Tokenize and generate padded sequences\n",
    "tokenizer = Tokenizer()\n",
    "tokenizer.fit_on_texts(train_texts)\n",
    "\n",
    "vocab_size = len(tokenizer.word_index) + 1\n",
    "max_sequence_length = max([len(text.split()) for text in train_texts])\n",
    "\n",
    "train_sequences = tokenizer.texts_to_sequences(train_texts)\n",
    "val_sequences = tokenizer.texts_to_sequences(val_texts)\n",
    "\n",
    "padded_train_sequences = pad_sequences(train_sequences, maxlen=max_sequence_length, padding='post')\n",
    "padded_val_sequences = pad_sequences(val_sequences, maxlen=max_sequence_length, padding='post')"
   ]
  },
  {
   "cell_type": "markdown",
   "id": "5c24ebc1",
   "metadata": {},
   "source": [
    "## Model Development & Architecture"
   ]
  },
  {
   "cell_type": "markdown",
   "id": "c76272a9",
   "metadata": {},
   "source": [
    "In my initial set up, I chose to split my train data into train & validation data, to get a sense of how the model is performing in real time. I began with a high number of epochs (50) but quickly minimized due to overfitting. "
   ]
  },
  {
   "cell_type": "code",
   "execution_count": 55,
   "id": "da310866",
   "metadata": {},
   "outputs": [],
   "source": [
    "embedding_dim = 100\n",
    "model = Sequential()\n",
    "model.add(Embedding(input_dim=vocab_size, output_dim=embedding_dim, input_length=max_sequence_length))\n",
    "model.add(GRU(64, return_sequences=True))\n",
    "model.add(Dropout(0.5))  # Adding dropout layer\n",
    "model.add(GRU(64))\n",
    "model.add(Dropout(0.5))  # Adding dropout layer\n",
    "model.add(Dense(1, activation='sigmoid'))\n",
    "\n",
    "model.compile(optimizer='adam', loss='binary_crossentropy', metrics=['accuracy'])"
   ]
  },
  {
   "cell_type": "code",
   "execution_count": 57,
   "id": "4d75d183",
   "metadata": {},
   "outputs": [
    {
     "name": "stdout",
     "output_type": "stream",
     "text": [
      "Epoch 1/10\n",
      "191/191 [==============================] - 2s 12ms/step - loss: 0.0271 - accuracy: 0.9842 - val_loss: 1.7429 - val_accuracy: 0.7360\n",
      "Epoch 2/10\n",
      "191/191 [==============================] - 2s 12ms/step - loss: 0.0266 - accuracy: 0.9852 - val_loss: 1.8153 - val_accuracy: 0.7420\n",
      "Epoch 3/10\n",
      "191/191 [==============================] - 2s 12ms/step - loss: 0.0252 - accuracy: 0.9857 - val_loss: 1.9683 - val_accuracy: 0.7511\n",
      "Epoch 4/10\n",
      "191/191 [==============================] - 2s 12ms/step - loss: 0.0254 - accuracy: 0.9859 - val_loss: 1.8911 - val_accuracy: 0.7452\n",
      "Epoch 5/10\n",
      "191/191 [==============================] - 2s 12ms/step - loss: 0.0394 - accuracy: 0.9826 - val_loss: 1.3621 - val_accuracy: 0.7433\n",
      "Epoch 6/10\n",
      "191/191 [==============================] - 2s 12ms/step - loss: 0.0319 - accuracy: 0.9836 - val_loss: 1.4949 - val_accuracy: 0.7557\n",
      "Epoch 7/10\n",
      "191/191 [==============================] - 2s 12ms/step - loss: 0.0328 - accuracy: 0.9849 - val_loss: 1.4821 - val_accuracy: 0.7446\n",
      "Epoch 8/10\n",
      "191/191 [==============================] - 2s 12ms/step - loss: 0.0294 - accuracy: 0.9852 - val_loss: 1.4921 - val_accuracy: 0.7492\n",
      "Epoch 9/10\n",
      "191/191 [==============================] - 2s 12ms/step - loss: 0.0275 - accuracy: 0.9852 - val_loss: 1.6270 - val_accuracy: 0.7452\n",
      "Epoch 10/10\n",
      "191/191 [==============================] - 2s 12ms/step - loss: 0.0254 - accuracy: 0.9860 - val_loss: 1.7380 - val_accuracy: 0.7452\n"
     ]
    },
    {
     "data": {
      "text/plain": [
       "<keras.src.callbacks.History at 0x2e06cf810>"
      ]
     },
     "execution_count": 57,
     "metadata": {},
     "output_type": "execute_result"
    }
   ],
   "source": [
    "model.fit(padded_train_sequences, train_target, epochs=10, batch_size=32, \n",
    "          validation_data=(padded_val_sequences, val_target))"
   ]
  },
  {
   "cell_type": "markdown",
   "id": "30b9b1bd",
   "metadata": {},
   "source": [
    "I made the following changes in an attempt to address overfitting:\n",
    "\n",
    "1. Used a more simple model with only two GRU layers\n",
    "2. Added dropout layers after each GRU layer with a dropout rate of 0.5 to regularize by randomly dropping connections during training\n",
    "3. Reduced the number of training epochs to 10 because the model began overfitting with a higher number of epochs\n",
    "4. Attempted to use early stopping, but ended up with a worse validation accuracy and chose to eliminate"
   ]
  },
  {
   "cell_type": "markdown",
   "id": "ffe6061d",
   "metadata": {},
   "source": [
    "## Predictions"
   ]
  },
  {
   "cell_type": "code",
   "execution_count": 70,
   "id": "9dd8b911",
   "metadata": {},
   "outputs": [
    {
     "name": "stdout",
     "output_type": "stream",
     "text": [
      "102/102 [==============================] - 0s 2ms/step\n"
     ]
    }
   ],
   "source": [
    "test_texts = test['cleaned_text']\n",
    "\n",
    "test_tokenizer = Tokenizer()\n",
    "tokenizer.fit_on_texts(test_texts)\n",
    "\n",
    "vocab_size = len(tokenizer.word_index) + 1\n",
    "\n",
    "test_sequences = tokenizer.texts_to_sequences(test_texts)  # Replace test_texts with your actual test data\n",
    "\n",
    "# Pad the test sequences to match max_sequence_length used during training\n",
    "padded_test_sequences = pad_sequences(test_sequences, maxlen=max_sequence_length, padding='post')\n",
    "\n",
    "# Make predictions\n",
    "predictions = model.predict(padded_test_sequences)"
   ]
  },
  {
   "cell_type": "code",
   "execution_count": 72,
   "id": "00549ce2",
   "metadata": {
    "scrolled": true
   },
   "outputs": [],
   "source": [
    "# convert prediction percentages to binary classification\n",
    "final_predictions = []\n",
    "for i in predictions:\n",
    "    if i > 0.5:\n",
    "        final_predictions.append(1)\n",
    "    else:\n",
    "        final_predictions.append(0)"
   ]
  },
  {
   "cell_type": "code",
   "execution_count": 75,
   "id": "d6a15a19",
   "metadata": {},
   "outputs": [],
   "source": [
    "# generate submission file\n",
    "submission = pd.DataFrame({'id': test['id'], 'target': final_predictions})\n",
    "submission.to_csv('submission.csv')"
   ]
  },
  {
   "cell_type": "markdown",
   "id": "6179f307",
   "metadata": {},
   "source": [
    "## Conclusion"
   ]
  },
  {
   "cell_type": "markdown",
   "id": "2621de5e",
   "metadata": {},
   "source": [
    "My model struggled with overfitting, and despite many attempts to mitigate I could not overcome this overfitting issue. I tried various layers and dropout values, but could not fully optimize. However, I learned a lot about how the hyperparameters affect other aspects of the model, and intend to continue my efforts on this project outside of this course."
   ]
  }
 ],
 "metadata": {
  "kernelspec": {
   "display_name": "Python 3 (ipykernel)",
   "language": "python",
   "name": "python3"
  },
  "language_info": {
   "codemirror_mode": {
    "name": "ipython",
    "version": 3
   },
   "file_extension": ".py",
   "mimetype": "text/x-python",
   "name": "python",
   "nbconvert_exporter": "python",
   "pygments_lexer": "ipython3",
   "version": "3.11.3"
  }
 },
 "nbformat": 4,
 "nbformat_minor": 5
}
